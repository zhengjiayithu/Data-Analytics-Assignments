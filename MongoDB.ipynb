{
 "cells": [
  {
   "cell_type": "markdown",
   "metadata": {},
   "source": [
    "# IEORE4572 MongoDB Assignment\n",
    "\n",
    "<h3>Yuzhou Liu: yl3402</h3>\n",
    "<h3>Jiayi Zheng: jz2767</h3>"
   ]
  },
  {
   "cell_type": "code",
   "execution_count": 2,
   "metadata": {
    "collapsed": true
   },
   "outputs": [],
   "source": [
    "# Google_sector_report function (Modified)\n",
    "# Add date, sector name and move of the sector, biggest gainer and loser to the result\n",
    "# Return a dictionary for MongoDB insertion instead of json\n",
    "\n",
    "def google_sector_report():\n",
    "    results = {}\n",
    "    import requests\n",
    "    import datetime\n",
    "    from bs4 import BeautifulSoup\n",
    "    date = datetime.datetime.today()\n",
    "    if date.weekday() == 5:\n",
    "        date = date - datetime.timedelta(days=1)\n",
    "    if date.weekday() ==6:\n",
    "        date = date - datetime.timedelta(days=2)\n",
    "    url = 'https://www.google.com/finance'\n",
    "    response = requests.get(url)\n",
    "    if response.status_code == 200:\n",
    "        google_finance = BeautifulSoup(response.content,'lxml')\n",
    "        sector_table = google_finance.find_all('div', {'id': 'secperf'})\n",
    "        for sectors in sector_table:\n",
    "            sectorContent = sectors.find_all('tr')\n",
    "            for sector in sectorContent:\n",
    "                if sector.get('class') != ['colHeader']:\n",
    "                    if sector.get('style') != 'height:0.9em':\n",
    "                        sector_name = sector.find('a').get_text()\n",
    "                        sector_link = sector.find('a').get('href')\n",
    "                        sector_change_ = sector.find('span').get_text()\n",
    "                        sector_change = float(sector_change_.split('%')[0])\n",
    "                        sector_response = requests.get('https://www.google.com' + sector_link)\n",
    "                        if sector_response.status_code == 200:\n",
    "                            sector_soup = BeautifulSoup(sector_response.content,'lxml')\n",
    "                            top_movers = sector_soup.find('table', {'class': 'topmovers'})\n",
    "                            # if the following holds, there are both gainer and loser data.\n",
    "                            if len(top_movers.find_all('tr')) == 18:\n",
    "                                biggest_gainer = top_movers.find_all('tr')[1]\n",
    "                                gainer_name = biggest_gainer.find('a').get_text()\n",
    "                                gainer_change_ = biggest_gainer.find_all('span')[1].get_text()\n",
    "                                gainer_change = float(gainer_change_.split('(')[1].split('%')[0])\n",
    "                                biggest_loser = top_movers.find_all('tr')[7]\n",
    "                                loser_name = biggest_loser.find('a').get_text()\n",
    "                                loser_change_ = biggest_loser.find_all('span')[1].get_text()\n",
    "                                loser_change = float(loser_change_.split('(')[1].split('%')[0])\n",
    "                                gainer_move = abs(gainer_change)\n",
    "                                loser_move = abs(loser_change)\n",
    "                            # if the following holds, there is either gainer or loser data.\n",
    "                            elif len(top_movers.find_all('tr')) == 12:\n",
    "                                # if following holds, there is only gainer data.\n",
    "                                if top_movers.find_all('tr')[0].get('class') != ['beginsec']:\n",
    "                                    biggest_gainer = top_movers.find_all('tr')[1]\n",
    "                                    gainer_name = biggest_gainer.find('a').get_text()\n",
    "                                    gainer_change_ = biggest_gainer.find_all('span')[1].get_text()\n",
    "                                    gainer_change = float(gainer_change_.split('(')[1].split('%')[0])\n",
    "                                    loser_name = ''\n",
    "                                    loser_change = None\n",
    "                                    gainer_move = abs(gainer_change)\n",
    "                                    loser_move = None\n",
    "                                # else, there is only loser data.\n",
    "                                else:\n",
    "                                    gainer_name = ''\n",
    "                                    gainer_change = None\n",
    "                                    biggest_loser = top_movers.find_all('tr')[1]\n",
    "                                    loser_name = biggest_loser.find('a').get_text()\n",
    "                                    loser_change_ = biggest_loser.find_all('span')[1].get_text()\n",
    "                                    loser_change = float(loser_change_.split('(')[1].split('%')[0])\n",
    "                                    gainer_move = None\n",
    "                                    loser_move = abs(loser_change)\n",
    "                            # else, there is no data for gainer or loser.\n",
    "                            else:\n",
    "                                gainer_name = ''\n",
    "                                gainer_change = None\n",
    "                                loser_name = ''\n",
    "                                loser_change = None\n",
    "                                gainer_move = None\n",
    "                                loser_move = None\n",
    "                            # \"...\" in sector name\n",
    "                            if sector_name == \"Cyclical Cons. Goods ...\":\n",
    "                                sector_name = \"Cyclical Consumer Goods & Services\"\n",
    "                            if sector_name == \"Non-Cyclical Cons. Goods...\":\n",
    "                                sector_name = \"Non-Cyclical Consumer Goods & Services\"\n",
    "                            if sector_name == \"Telecommunications Servi...\":\n",
    "                                sector_name = \"Telecommunications Services\"\n",
    "                            \n",
    "                            results[sector_name] = {'sector_name': sector_name, 'date': str(date)[0:10],\n",
    "                                                    'change': sector_change, 'move': abs(sector_change), \n",
    "                                                    'biggest_gainer': {'equity': gainer_name, \n",
    "                                                                       'change': gainer_change, 'move': gainer_move}, \n",
    "                                                    'biggest_loser': {'equity': loser_name, \n",
    "                                                                      'change': loser_change, 'move':loser_move}}\n",
    "    return results"
   ]
  },
  {
   "cell_type": "code",
   "execution_count": 3,
   "metadata": {
    "collapsed": false
   },
   "outputs": [],
   "source": [
    "# Create datebase and colletion in MongoDB\n",
    "\n",
    "import pymongo\n",
    "from pymongo import MongoClient\n",
    "\n",
    "client = MongoClient()\n",
    "db = client['Google-Finance']\n",
    "collection = db['sector']"
   ]
  },
  {
   "cell_type": "code",
   "execution_count": 26,
   "metadata": {
    "collapsed": false
   },
   "outputs": [
    {
     "data": {
      "text/plain": [
       "['date_sector']"
      ]
     },
     "execution_count": 26,
     "metadata": {},
     "output_type": "execute_result"
    }
   ],
   "source": [
    "# Create compound indexes\n",
    "\n",
    "from pymongo import IndexModel, ASCENDING, DESCENDING\n",
    "index = IndexModel([(\"sector_name\",ASCENDING),(\"date\", ASCENDING)],name=\"date_sector\")\n",
    "\n",
    "db.sector.create_indexes([index])"
   ]
  },
  {
   "cell_type": "code",
   "execution_count": 10,
   "metadata": {
    "collapsed": true
   },
   "outputs": [],
   "source": [
    "# Function to update the collection as new data arrives\n",
    "# The document design: Each document represents a date-sector combination.\n",
    "\n",
    "def update_data_today():\n",
    "    data = google_sector_report()\n",
    "    for key in data:\n",
    "        d = data[key]\n",
    "        sector = d[\"sector_name\"]\n",
    "        date = d[\"date\"]\n",
    "        cursor = db.sector.find({\"sector_name\": sector, \"date\": date}).limit(1)\n",
    "        if len([i for i in cursor]) != 0:\n",
    "            print(\"Document already exists: \", date, sector)\n",
    "        else:\n",
    "            db.sector.insert(d)"
   ]
  },
  {
   "cell_type": "code",
   "execution_count": 11,
   "metadata": {
    "collapsed": false
   },
   "outputs": [
    {
     "name": "stderr",
     "output_type": "stream",
     "text": [
      "F:\\Program Files (x86)\\Anaconda3\\lib\\site-packages\\ipykernel\\__main__.py:14: DeprecationWarning: insert is deprecated. Use insert_one or insert_many instead.\n"
     ]
    }
   ],
   "source": [
    "# Insert data of today\n",
    "update_data_today()"
   ]
  },
  {
   "cell_type": "markdown",
   "metadata": {},
   "source": [
    "<h4>Design an interface object for the collection. The interface object is able to answer questions:<br>\n",
    "<br>\n",
    "<li>1. Which sector has had the greatest move on a given date\n",
    "<li>2. Which sector has had the greatest move ever\n",
    "<li>3. Which stock has had the greatest move on a given date\n",
    "<li>4. Which stock has had the greatest move ever\n",
    "<li>5. Return a list of (date, change) tuples for a given sector\n",
    "<li>6. Return a list of (sector, change) tuples for a given date\n",
    "<li>7. Return the average of changes for a given sector\n",
    "<li>8. Return the variance of changes for a given sector:\n",
    "<li>9. Return the average changes of the biggest ganiers and losers for a given sector</h4>"
   ]
  },
  {
   "cell_type": "code",
   "execution_count": 45,
   "metadata": {
    "collapsed": true
   },
   "outputs": [],
   "source": [
    "import pymongo\n",
    "from pymongo import MongoClient\n",
    "client = MongoClient()"
   ]
  },
  {
   "cell_type": "code",
   "execution_count": 3,
   "metadata": {
    "collapsed": true
   },
   "outputs": [],
   "source": [
    "class Sector(MongoClient):\n",
    "    def __init__(self):\n",
    "        self._settings = {\"db\":\"Google-Finance\",\"collection\":\"sector\"}\n",
    "        self._collection = MongoClient()[self._settings[\"db\"]][self._settings[\"collection\"]]\n",
    "        \n",
    "    def p1(self, date):\n",
    "        \"\"\"Which sector has had the greatest move on a given date\"\"\"\n",
    "        p1 = self._collection.aggregate(\n",
    "            [\n",
    "                {\"$match\": {\"date\" : date}},\n",
    "                {\"$sort\": {\"move\": -1}}\n",
    "            ])\n",
    "        for i in p1:\n",
    "            print(\"{} sector has had the greatest move on {}\".format(i['sector_name'],date))\n",
    "            break\n",
    "\n",
    "    def p2(self):\n",
    "        '''Which sector has had the greatest move ever'''\n",
    "        p2 = self._collection.aggregate(\n",
    "            [\n",
    "                {\"$sort\": {\"move\": -1}}\n",
    "            ])\n",
    "        for i in p2:\n",
    "            print(\"{} sector has had the greatest move ever\".format(i['sector_name']))\n",
    "            break\n",
    "            \n",
    "    def p3(self, date):\n",
    "        '''Which stock has had the greatest move on a given date'''\n",
    "        p31 = self._collection.aggregate(\n",
    "            [\n",
    "                {\"$match\": {\"date\" : date}},\n",
    "                {\"$sort\": {\"biggest_loser.move\": -1}}\n",
    "            ])\n",
    "        p32 = self._collection.aggregate(\n",
    "            [\n",
    "                {\"$match\": {\"date\" : date}},\n",
    "                {\"$sort\": {\"biggest_gainer.move\": -1}}\n",
    "            ])\n",
    "        for i in p31:\n",
    "            for j in p32:\n",
    "                if i['biggest_loser']['move'] > j['biggest_gainer']['move']:\n",
    "                    print(\"{} has had the greatest move on {}\".format(i['biggest_loser']['equity'],date))\n",
    "                else:\n",
    "                    print(\"{} has had the greatest move on {}\".format(j['biggest_gainer']['equity'],date))\n",
    "                break\n",
    "            break            \n",
    "\n",
    "    def p4(self):\n",
    "        '''Which stock has had the greatest move ever'''\n",
    "        p41 = self._collection.aggregate(\n",
    "            [\n",
    "                {\"$sort\": {\"biggest_loser.move\": -1}}\n",
    "            ])\n",
    "        p42 = self._collection.aggregate(\n",
    "            [\n",
    "                {\"$sort\": {\"biggest_gainer.move\": -1}}\n",
    "            ])\n",
    "        for i in p41:\n",
    "            for j in p42:\n",
    "                if i['biggest_loser']['move'] > j['biggest_gainer']['move']:\n",
    "                    print(\"{} has had the greatest move ever\".format(i['biggest_loser']['equity']))\n",
    "                else:\n",
    "                    print(\"{} sector has had the greatest move ever\".format(j['biggest_gainer']['equity']))\n",
    "                break\n",
    "            break          \n",
    "            \n",
    "    def p5(self, sector):\n",
    "        '''Return a list of (date, change) tuples for a given sector'''\n",
    "        p5 = self._collection.find({\"sector_name\": sector})\n",
    "        list5 = []\n",
    "        for i in p5:\n",
    "            list5.append((i['date'], i['change']))\n",
    "        return list5\n",
    "\n",
    "    def p6(self, date):\n",
    "        '''Return a list of (sector, change) tuples for a given date'''\n",
    "        p6 = self._collection.find({\"date\": date})\n",
    "        list6 = []\n",
    "        for i in p6:\n",
    "            list6.append((i['sector_name'], i['change']))\n",
    "        return list6    \n",
    "\n",
    "    def p7(self, sector):\n",
    "        '''Return the average of changes for a given sector'''\n",
    "        p7 = self._collection.find({\"sector_name\": sector})\n",
    "        list7 = []\n",
    "        for i in p7:\n",
    "            list7.append(i['change'])\n",
    "        avg = sum(list7)/len(list7)\n",
    "        print(\"The average change for {} is {}\".format(sector, avg))\n",
    "        return avg\n",
    "    \n",
    "    def p8(self, sector):\n",
    "        '''Return the variance of changes for a given sector'''\n",
    "        import numpy as np\n",
    "        p8 = self._collection.find({\"sector_name\": sector})\n",
    "        list8 = []\n",
    "        for i in p8:\n",
    "            list8.append(i['change'])\n",
    "        var = np.var(list8)\n",
    "        print(\"The variance of changes for {} is {}\".format(sector,var))\n",
    "        return var\n",
    "    \n",
    "    def p9(self): \n",
    "        '''Print the average changes of the biggest ganiers and losers for all sectors'''\n",
    "        p9 = self._collection.aggregate(\n",
    "            [\n",
    "               {\"$group\":{\"_id\":\"$sector_name\", \"gainer_avg\":{\"$avg\": \"$biggest_gainer.change\"}, \"loser_avg\":{\"$avg\": \"$biggest_loser.change\"}}}     \n",
    "            ])\n",
    "        for i in p9:\n",
    "            print(i)"
   ]
  },
  {
   "cell_type": "code",
   "execution_count": 4,
   "metadata": {
    "collapsed": true
   },
   "outputs": [],
   "source": [
    "sector = Sector()"
   ]
  },
  {
   "cell_type": "code",
   "execution_count": 5,
   "metadata": {
    "collapsed": false
   },
   "outputs": [
    {
     "name": "stdout",
     "output_type": "stream",
     "text": [
      "Cyclical Consumer Goods & Services sector has had the greatest move on 2016-10-17\n"
     ]
    }
   ],
   "source": [
    "sector.p1(\"2016-10-17\")"
   ]
  },
  {
   "cell_type": "code",
   "execution_count": 6,
   "metadata": {
    "collapsed": false
   },
   "outputs": [
    {
     "name": "stdout",
     "output_type": "stream",
     "text": [
      "Healthcare sector has had the greatest move ever\n"
     ]
    }
   ],
   "source": [
    "sector.p2()"
   ]
  },
  {
   "cell_type": "code",
   "execution_count": 7,
   "metadata": {
    "collapsed": false
   },
   "outputs": [
    {
     "name": "stdout",
     "output_type": "stream",
     "text": [
      "LML Payment Systems, Inc. has had the greatest move on 2016-10-14\n"
     ]
    }
   ],
   "source": [
    "sector.p3(\"2016-10-14\")"
   ]
  },
  {
   "cell_type": "code",
   "execution_count": 8,
   "metadata": {
    "collapsed": false
   },
   "outputs": [
    {
     "name": "stdout",
     "output_type": "stream",
     "text": [
      "LML Payment Systems, Inc. sector has had the greatest move ever\n"
     ]
    }
   ],
   "source": [
    "sector.p4()"
   ]
  },
  {
   "cell_type": "code",
   "execution_count": 9,
   "metadata": {
    "collapsed": false
   },
   "outputs": [
    {
     "data": {
      "text/plain": [
       "[('2016-10-14', -0.11), ('2016-10-17', -0.41)]"
      ]
     },
     "execution_count": 9,
     "metadata": {},
     "output_type": "execute_result"
    }
   ],
   "source": [
    "sector.p5(\"Energy\")"
   ]
  },
  {
   "cell_type": "code",
   "execution_count": 10,
   "metadata": {
    "collapsed": false
   },
   "outputs": [
    {
     "data": {
      "text/plain": [
       "[('Utilities', -0.42),\n",
       " ('Telecommunications Services', 0.41),\n",
       " ('Financials', 0.29),\n",
       " ('Non-Cyclical Consumer Goods & Services', 0.33),\n",
       " ('Industrials', 0.13),\n",
       " ('Healthcare', -0.77),\n",
       " ('Energy', -0.11),\n",
       " ('Basic Materials', -0.07),\n",
       " ('Technology', 0.19),\n",
       " ('Cyclical Consumer Goods & Services', -0.03)]"
      ]
     },
     "execution_count": 10,
     "metadata": {},
     "output_type": "execute_result"
    }
   ],
   "source": [
    "sector.p6(\"2016-10-14\")"
   ]
  },
  {
   "cell_type": "code",
   "execution_count": 11,
   "metadata": {
    "collapsed": false
   },
   "outputs": [
    {
     "name": "stdout",
     "output_type": "stream",
     "text": [
      "The average change for Cyclical Consumer Goods & Services is -0.31\n"
     ]
    },
    {
     "data": {
      "text/plain": [
       "-0.31"
      ]
     },
     "execution_count": 11,
     "metadata": {},
     "output_type": "execute_result"
    }
   ],
   "source": [
    "sector.p7(\"Cyclical Consumer Goods & Services\")"
   ]
  },
  {
   "cell_type": "code",
   "execution_count": 12,
   "metadata": {
    "collapsed": false
   },
   "outputs": [
    {
     "name": "stdout",
     "output_type": "stream",
     "text": [
      "The variance of changes for Healthcare is 0.087025\n"
     ]
    },
    {
     "data": {
      "text/plain": [
       "0.087025000000000005"
      ]
     },
     "execution_count": 12,
     "metadata": {},
     "output_type": "execute_result"
    }
   ],
   "source": [
    "sector.p8(\"Healthcare\")"
   ]
  },
  {
   "cell_type": "code",
   "execution_count": 13,
   "metadata": {
    "collapsed": false
   },
   "outputs": [
    {
     "name": "stdout",
     "output_type": "stream",
     "text": [
      "{'_id': 'Utilities', 'gainer_avg': 3.01, 'loser_avg': -2.505}\n",
      "{'_id': 'Telecommunications Services', 'gainer_avg': 3.26, 'loser_avg': -3.465}\n",
      "{'_id': 'Financials', 'gainer_avg': 9.37, 'loser_avg': -24.19}\n",
      "{'_id': 'Non-Cyclical Consumer Goods & Services', 'gainer_avg': None, 'loser_avg': -5.38}\n",
      "{'_id': 'Basic Materials', 'gainer_avg': 7.835, 'loser_avg': -4.73}\n",
      "{'_id': 'Technology', 'gainer_avg': 6.715, 'loser_avg': -7.91}\n",
      "{'_id': 'Industrials', 'gainer_avg': 633.43, 'loser_avg': -11.785}\n",
      "{'_id': 'Energy', 'gainer_avg': 5.51, 'loser_avg': -6.15}\n",
      "{'_id': 'Healthcare', 'gainer_avg': 9.345, 'loser_avg': -11.415}\n",
      "{'_id': 'Cyclical Consumer Goods & Services', 'gainer_avg': 10.04, 'loser_avg': -6.390000000000001}\n"
     ]
    }
   ],
   "source": [
    "sector.p9()"
   ]
  },
  {
   "cell_type": "code",
   "execution_count": 29,
   "metadata": {
    "collapsed": false
   },
   "outputs": [],
   "source": [
    "class sector_date(Sector):\n",
    "    def __init__(self,date,sector):\n",
    "        super().__init__()\n",
    "        dbSector = self._collection.find_one({\"sector_name\": sector, \"date\": date})\n",
    "        self._id = dbSector[\"_id\"]\n",
    "        self.date = dbSector['date']\n",
    "        self.sector = dbSector['sector_name']\n",
    "        self.change = dbSector['change']\n",
    "        self.move = dbSector['move']\n",
    "        self.gainer = dbSector['biggest_gainer']\n",
    "        self.loser = dbSector['biggest_loser']\n",
    "\n",
    "    def __str__(self):\n",
    "        return '''\n",
    "Sector: {}\n",
    "Date: {}\n",
    "Change: {}\n",
    "The biggest gainer is {} with {}% change\n",
    "The biggest loser is {} with {}% change'''.format(self.sector, self.date, self.get_change(), \n",
    "                                                          self.get_biggest_gainer(), self.get_biggest_gainer_change(),\n",
    "                                                          self.get_biggest_loser(), self.get_biggest_loser_change())\n",
    "        \n",
    "    def get_change(self):\n",
    "        return self.change\n",
    "    \n",
    "    def get_move(self):\n",
    "        return self.move\n",
    "    \n",
    "    def get_biggest_gainer(self):\n",
    "        return self.gainer['equity']\n",
    "    \n",
    "    def get_biggest_gainer_change(self):\n",
    "        return self.gainer['change']\n",
    "    \n",
    "    def get_biggest_gainer_move(self):\n",
    "        return self.gainer['move']\n",
    "    \n",
    "    def get_biggest_loser(self):\n",
    "        return self.loser['equity']\n",
    "    \n",
    "    def get_biggest_loser_change(self):\n",
    "        return self.loser['change']\n",
    "    \n",
    "    def get_biggest_loser_move(self):\n",
    "        return self.loser['move']"
   ]
  },
  {
   "cell_type": "code",
   "execution_count": 30,
   "metadata": {
    "collapsed": false
   },
   "outputs": [],
   "source": [
    "energy_20161017 = sector_date(\"2016-10-17\",\"Energy\")"
   ]
  },
  {
   "cell_type": "code",
   "execution_count": 31,
   "metadata": {
    "collapsed": false
   },
   "outputs": [
    {
     "data": {
      "text/plain": [
       "-0.41"
      ]
     },
     "execution_count": 31,
     "metadata": {},
     "output_type": "execute_result"
    }
   ],
   "source": [
    "energy_20161017.get_change()"
   ]
  },
  {
   "cell_type": "code",
   "execution_count": 32,
   "metadata": {
    "collapsed": false
   },
   "outputs": [
    {
     "data": {
      "text/plain": [
       "'Chesapeake Granite Wash'"
      ]
     },
     "execution_count": 32,
     "metadata": {},
     "output_type": "execute_result"
    }
   ],
   "source": [
    "energy_20161017.get_biggest_gainer()"
   ]
  },
  {
   "cell_type": "code",
   "execution_count": 33,
   "metadata": {
    "collapsed": false
   },
   "outputs": [
    {
     "name": "stdout",
     "output_type": "stream",
     "text": [
      "\n",
      "Sector: Energy\n",
      "Date: 2016-10-17\n",
      "Change: -0.41\n",
      "The biggest gainer is Chesapeake Granite Wash with 3.77% change\n",
      "The biggest loser is Tidewater Inc. with -6.51% change\n"
     ]
    }
   ],
   "source": [
    "print(energy_20161017)"
   ]
  },
  {
   "cell_type": "markdown",
   "metadata": {},
   "source": [
    "<h4>Use functions to query:</h4>"
   ]
  },
  {
   "cell_type": "code",
   "execution_count": 46,
   "metadata": {
    "collapsed": false
   },
   "outputs": [],
   "source": [
    "import pymongo\n",
    "from pymongo import MongoClient\n",
    "client = MongoClient()\n",
    "db = client['Google-Finance']\n",
    "collection = db['sector']\n",
    "\n",
    "def query():\n",
    "    print('''\n",
    "    1. Which sector has had the greatest move on a given date\n",
    "    2. Which sector has had the greatest move ever\n",
    "    3. Which stock has had the greatest move on a given date\n",
    "    4. Which stock has had the greatest move ever\n",
    "    5. Return a list of (date, change) tuples for a given sector\n",
    "    6. Return a list of (sector, change) tuples for a given date\n",
    "    7. Return the average of changes for a given sector\n",
    "    8. Return the variance of changes for a given sector:\n",
    "    9. Return the average changes of the biggest ganiers and losers for a given sector''')\n",
    "    x = input(\"Please choose a number from 1-9: \")\n",
    "    try:\n",
    "        func = 'p'+x\n",
    "        return globals()[func]()\n",
    "    except:\n",
    "        return \"Something goes wrong\""
   ]
  },
  {
   "cell_type": "code",
   "execution_count": 47,
   "metadata": {
    "collapsed": false,
    "scrolled": true
   },
   "outputs": [
    {
     "name": "stdout",
     "output_type": "stream",
     "text": [
      "\n",
      "    1. Which sector has had the greatest move on a given date\n",
      "    2. Which sector has had the greatest move ever\n",
      "    3. Which stock has had the greatest move on a given date\n",
      "    4. Which stock has had the greatest move ever\n",
      "    5. Return a list of (date, change) tuples for a given sector\n",
      "    6. Return a list of (sector, change) tuples for a given date\n",
      "    7. Return the average of changes for a given sector\n",
      "    8. Return the variance of changes for a given sector:\n",
      "    9. Return the average changes of the biggest ganiers and losers for a given sector\n",
      "Please choose a number from 1-9: 6\n",
      "Input a date (yyyy-mm-dd): 2016-10-17\n"
     ]
    },
    {
     "data": {
      "text/plain": [
       "[('Non-Cyclical Consumer Goods & Services', -0.06),\n",
       " ('Telecommunications Services', -0.45),\n",
       " ('Basic Materials', 0.29),\n",
       " ('Healthcare', -0.18),\n",
       " ('Financials', -0.23),\n",
       " ('Cyclical Consumer Goods & Services', -0.59),\n",
       " ('Technology', -0.27),\n",
       " ('Energy', -0.41),\n",
       " ('Industrials', -0.2),\n",
       " ('Utilities', 0.38)]"
      ]
     },
     "execution_count": 47,
     "metadata": {},
     "output_type": "execute_result"
    }
   ],
   "source": [
    "query()"
   ]
  },
  {
   "cell_type": "code",
   "execution_count": 34,
   "metadata": {
    "collapsed": true
   },
   "outputs": [],
   "source": [
    "# 1. Which sector has had the greatest move on a given date\n",
    "\n",
    "def p1():\n",
    "    date = input(\"Input a date (yyyy-mm-dd): \")\n",
    "    p1 = db.sector.aggregate(\n",
    "        [\n",
    "            {\"$match\": {\"date\" : date}},\n",
    "            {\"$sort\": {\"move\": -1}}\n",
    "        ])\n",
    "    \n",
    "    for i in p1:\n",
    "        print(\"{} sector has had the greatest move on {}\".format(i['sector_name'],date))\n",
    "        break"
   ]
  },
  {
   "cell_type": "code",
   "execution_count": 35,
   "metadata": {
    "collapsed": true
   },
   "outputs": [],
   "source": [
    "# 2. Which sector has had the greatest move ever\n",
    "\n",
    "def p2():\n",
    "    p2 = db.sector.aggregate(\n",
    "        [\n",
    "            {\"$sort\": {\"move\": -1}}\n",
    "        ])\n",
    "\n",
    "    for i in p2:\n",
    "        print(\"{} sector has had the greatest move ever\".format(i['sector_name']))\n",
    "        break"
   ]
  },
  {
   "cell_type": "code",
   "execution_count": 36,
   "metadata": {
    "collapsed": true
   },
   "outputs": [],
   "source": [
    "# 3. Which stock has had the greatest move on a given date\n",
    "\n",
    "def p3():\n",
    "    date = input(\"Input a date (yyyy-mm-dd): \")\n",
    "    p31 = db.sector.aggregate(\n",
    "        [\n",
    "            {\"$match\": {\"date\" : date}},\n",
    "            {\"$sort\": {\"biggest_loser.move\": -1}}\n",
    "        ])\n",
    "\n",
    "    p32 = db.sector.aggregate(\n",
    "        [\n",
    "            {\"$match\": {\"date\" : date}},\n",
    "            {\"$sort\": {\"biggest_gainer.move\": -1}}\n",
    "        ])\n",
    "\n",
    "    for i in p31:\n",
    "        for j in p32:\n",
    "            if i['biggest_loser']['move'] > j['biggest_gainer']['move']:\n",
    "                print(\"{} has had the greatest move on {}\".format(i['biggest_loser']['equity'],date))\n",
    "            else:\n",
    "                print(\"{} has had the greatest move on {}\".format(j['biggest_gainer']['equity'],date))\n",
    "            break\n",
    "        break"
   ]
  },
  {
   "cell_type": "code",
   "execution_count": 37,
   "metadata": {
    "collapsed": true
   },
   "outputs": [],
   "source": [
    "# 4. Which stock has had the greatest move ever\n",
    "\n",
    "def p4():\n",
    "    p41 = db.sector.aggregate(\n",
    "        [\n",
    "            {\"$sort\": {\"biggest_loser.move\": -1}}\n",
    "        ])\n",
    "\n",
    "    p42 = db.sector.aggregate(\n",
    "        [\n",
    "            {\"$sort\": {\"biggest_gainer.move\": -1}}\n",
    "        ])\n",
    "\n",
    "    for i in p41:\n",
    "        for j in p42:\n",
    "            if i['biggest_loser']['move'] > j['biggest_gainer']['move']:\n",
    "                print(\"{} has had the greatest move ever\".format(i['biggest_loser']['equity']))\n",
    "            else:\n",
    "                print(\"{} sector has had the greatest move ever\".format(j['biggest_gainer']['equity']))\n",
    "            break\n",
    "        break    "
   ]
  },
  {
   "cell_type": "code",
   "execution_count": 38,
   "metadata": {
    "collapsed": true
   },
   "outputs": [],
   "source": [
    "# 5. Return a list of (date, change) tuples for a given sector\n",
    "\n",
    "def p5():\n",
    "    sector = input(\"Input a sector: \")\n",
    "    p5 = db.sector.find({\"sector_name\": sector})\n",
    "    list5 = []\n",
    "    for i in p5:\n",
    "        list5.append((i['date'], i['change']))\n",
    "    return list5"
   ]
  },
  {
   "cell_type": "code",
   "execution_count": 39,
   "metadata": {
    "collapsed": true
   },
   "outputs": [],
   "source": [
    "# 6. Return a list of (sector, change) tuples for a given date\n",
    "\n",
    "def p6():\n",
    "    date = input(\"Input a date (yyyy-mm-dd): \")\n",
    "    p6 = db.sector.find({\"date\": date})\n",
    "    list6 = []\n",
    "    for i in p6:\n",
    "        list6.append((i['sector_name'], i['change']))\n",
    "    return list6"
   ]
  },
  {
   "cell_type": "code",
   "execution_count": 40,
   "metadata": {
    "collapsed": true
   },
   "outputs": [],
   "source": [
    "# 7. Return the average of changes for a given sector\n",
    "\n",
    "def p7():\n",
    "    sector = input(\"Input a sector: \")\n",
    "    p7 = db.sector.find({\"sector_name\": sector})\n",
    "    list7 = []\n",
    "    for i in p7:\n",
    "        list7.append(i['change'])\n",
    "    avg = sum(list7)/len(list7)\n",
    "    print(\"The average change for {} is {}\".format(sector, avg))\n",
    "    return avg"
   ]
  },
  {
   "cell_type": "code",
   "execution_count": 41,
   "metadata": {
    "collapsed": false
   },
   "outputs": [],
   "source": [
    "# 8. Return the variance of changes for a given sector:\n",
    "\n",
    "def p8():\n",
    "    sector = input(\"Input a sector: \")    \n",
    "    import numpy as np\n",
    "    p8 = db.sector.find({\"sector_name\": sector})\n",
    "    list8 = []\n",
    "    for i in p8:\n",
    "        list8.append(i['change'])\n",
    "    var = np.var(list8)\n",
    "    print(\"The variance of changes for {} is {}\".format(sector,var))\n",
    "    return var"
   ]
  },
  {
   "cell_type": "code",
   "execution_count": 42,
   "metadata": {
    "collapsed": false
   },
   "outputs": [],
   "source": [
    "# 9. Print the average changes of the biggest ganiers and losers for all sectors\n",
    "\n",
    "def p9(): \n",
    "    p9 = db.sector.aggregate(\n",
    "        [\n",
    "           {\"$group\":{\"_id\":\"$sector_name\", \"gainer_avg\":{\"$avg\": \"$biggest_gainer.change\"}, \"loser_avg\":{\"$avg\": \"$biggest_loser.change\"}}}     \n",
    "        ])\n",
    "    for i in p9:\n",
    "        print(i)"
   ]
  },
  {
   "cell_type": "code",
   "execution_count": null,
   "metadata": {
    "collapsed": true
   },
   "outputs": [],
   "source": []
  }
 ],
 "metadata": {
  "anaconda-cloud": {},
  "kernelspec": {
   "display_name": "Python [Root]",
   "language": "python",
   "name": "Python [Root]"
  },
  "language_info": {
   "codemirror_mode": {
    "name": "ipython",
    "version": 3
   },
   "file_extension": ".py",
   "mimetype": "text/x-python",
   "name": "python",
   "nbconvert_exporter": "python",
   "pygments_lexer": "ipython3",
   "version": "3.5.2"
  }
 },
 "nbformat": 4,
 "nbformat_minor": 0
}
